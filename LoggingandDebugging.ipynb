{
 "cells": [
  {
   "cell_type": "markdown",
   "id": "8b0ab393-9196-4d89-92e6-985b3c7627a1",
   "metadata": {},
   "source": [
    "# Logging and Debugging"
   ]
  },
  {
   "cell_type": "code",
   "execution_count": 30,
   "id": "7b5c7205-6575-4166-97a0-eed3f461ba9d",
   "metadata": {},
   "outputs": [
    {
     "name": "stdout",
     "output_type": "stream",
     "text": [
      "This is my print statement\n"
     ]
    }
   ],
   "source": [
    "print(\"This is my print statement\")"
   ]
  },
  {
   "cell_type": "code",
   "execution_count": 8,
   "id": "bed547de-8505-4895-8b86-2851962a942b",
   "metadata": {},
   "outputs": [],
   "source": [
    "import logging"
   ]
  },
  {
   "cell_type": "code",
   "execution_count": 9,
   "id": "5528eb28-59ad-400f-82cb-212c866506fd",
   "metadata": {},
   "outputs": [],
   "source": [
    "logging.basicConfig(file=\"test.log\", level=logging.INFO)"
   ]
  },
  {
   "cell_type": "code",
   "execution_count": 10,
   "id": "80bcdad7-c1bd-4466-b8f2-5e517e0668e7",
   "metadata": {},
   "outputs": [
    {
     "name": "stderr",
     "output_type": "stream",
     "text": [
      "INFO:root:This is my line of execution\n"
     ]
    }
   ],
   "source": [
    "logging.info(\"This is my line of execution\")"
   ]
  },
  {
   "cell_type": "code",
   "execution_count": 11,
   "id": "15262791-fb02-4889-8429-b01f91974cdb",
   "metadata": {},
   "outputs": [
    {
     "name": "stderr",
     "output_type": "stream",
     "text": [
      "ERROR:root:This is my error\n"
     ]
    }
   ],
   "source": [
    "logging.error(\"This is my error\")"
   ]
  },
  {
   "cell_type": "code",
   "execution_count": 12,
   "id": "f2177787-2fe4-40fe-85f2-1c8f7d5986a0",
   "metadata": {},
   "outputs": [
    {
     "name": "stderr",
     "output_type": "stream",
     "text": [
      "CRITICAL:root:This is my critical\n"
     ]
    }
   ],
   "source": [
    "logging.critical(\"This is my critical\")"
   ]
  },
  {
   "cell_type": "code",
   "execution_count": 13,
   "id": "c367edeb-309c-4132-8b4b-4a05772eae98",
   "metadata": {},
   "outputs": [
    {
     "name": "stderr",
     "output_type": "stream",
     "text": [
      "WARNING:root:This is my warning\n"
     ]
    }
   ],
   "source": [
    "logging.warning(\"This is my warning\")"
   ]
  },
  {
   "cell_type": "code",
   "execution_count": 14,
   "id": "f333dcae-739e-47cb-9f7e-567dc7666473",
   "metadata": {},
   "outputs": [],
   "source": [
    "logging.debug(\"This is my info related to debug\")"
   ]
  },
  {
   "cell_type": "code",
   "execution_count": 15,
   "id": "d1c5f809-78ab-4070-9acf-ebb9523aba3b",
   "metadata": {},
   "outputs": [
    {
     "ename": "AttributeError",
     "evalue": "module 'logging' has no attribute 'noset'",
     "output_type": "error",
     "traceback": [
      "\u001b[0;31m---------------------------------------------------------------------------\u001b[0m",
      "\u001b[0;31mAttributeError\u001b[0m                            Traceback (most recent call last)",
      "Cell \u001b[0;32mIn [15], line 1\u001b[0m\n\u001b[0;32m----> 1\u001b[0m \u001b[43mlogging\u001b[49m\u001b[38;5;241;43m.\u001b[39;49m\u001b[43mnoset\u001b[49m(\u001b[38;5;124m\"\u001b[39m\u001b[38;5;124mThis is my noset related log\u001b[39m\u001b[38;5;124m\"\u001b[39m)\n",
      "\u001b[0;31mAttributeError\u001b[0m: module 'logging' has no attribute 'noset'"
     ]
    }
   ],
   "source": [
    "logging.noset(\"This is my noset related log\")"
   ]
  },
  {
   "cell_type": "code",
   "execution_count": null,
   "id": "6dae2db1-f06b-4d79-9b51-bc32db4dd274",
   "metadata": {},
   "outputs": [],
   "source": [
    "1. NOSET\n",
    "2. DEBUG\n",
    "3. INFO\n",
    "4. WARNING\n",
    "5. ERROR\n",
    "6. CRITICAL"
   ]
  },
  {
   "cell_type": "code",
   "execution_count": 16,
   "id": "1495220b-550b-4d20-8e3a-d5c1e5185b88",
   "metadata": {},
   "outputs": [],
   "source": [
    "logging.shutdown()"
   ]
  },
  {
   "cell_type": "code",
   "execution_count": 17,
   "id": "5d0f6868-ae8b-47a3-bc54-179ee11f6313",
   "metadata": {},
   "outputs": [],
   "source": [
    "logging.basicConfig(file=\"test1.log\", level=logging.DEBUG,format=\"%(asctime)s %(message)s\")"
   ]
  },
  {
   "cell_type": "code",
   "execution_count": 18,
   "id": "6fa49621-d0fa-4555-8979-7fc1d39b460d",
   "metadata": {},
   "outputs": [
    {
     "name": "stderr",
     "output_type": "stream",
     "text": [
      "INFO:root:This is my info log\n"
     ]
    }
   ],
   "source": [
    "logging.info(\"This is my info log\")"
   ]
  },
  {
   "cell_type": "code",
   "execution_count": 19,
   "id": "0dab14af-5186-4545-a8bb-91e7df7f4f05",
   "metadata": {},
   "outputs": [],
   "source": [
    "logging.debug(\"This is my debug log\")"
   ]
  },
  {
   "cell_type": "code",
   "execution_count": 20,
   "id": "f410edb4-c4cc-404a-912f-e1b1508fcd44",
   "metadata": {},
   "outputs": [
    {
     "name": "stderr",
     "output_type": "stream",
     "text": [
      "WARNING:root:This is my warning\n"
     ]
    }
   ],
   "source": [
    "logging.warning(\"This is my warning\")"
   ]
  },
  {
   "cell_type": "code",
   "execution_count": 21,
   "id": "0d5e2d83-8e63-448e-90c3-a346eaed644c",
   "metadata": {},
   "outputs": [],
   "source": [
    "logging.shutdown()"
   ]
  },
  {
   "cell_type": "code",
   "execution_count": 22,
   "id": "d32537b1-975a-4827-aa6f-c70d14816109",
   "metadata": {},
   "outputs": [],
   "source": [
    "logging.basicConfig(file='test3.log', level=logging.DEBUG,format=\"%(asctime)s %(name)s %(levelname)s %(message)s\")"
   ]
  },
  {
   "cell_type": "code",
   "execution_count": 23,
   "id": "cd14b16f-1458-4e88-abfc-eb5ccff17c8a",
   "metadata": {},
   "outputs": [
    {
     "name": "stderr",
     "output_type": "stream",
     "text": [
      "INFO:root:This is my info log\n"
     ]
    }
   ],
   "source": [
    "logging.info(\"This is my info log\")"
   ]
  },
  {
   "cell_type": "code",
   "execution_count": 24,
   "id": "3ba2f976-e344-4a20-92cb-21f33dec93f9",
   "metadata": {},
   "outputs": [],
   "source": [
    "l=[1,2,3,4,[4,5,6], \"sudh\", \"kumar\"]"
   ]
  },
  {
   "cell_type": "code",
   "execution_count": 27,
   "id": "0d17159f-8f1c-494d-a82b-b0436af46b99",
   "metadata": {},
   "outputs": [
    {
     "name": "stderr",
     "output_type": "stream",
     "text": [
      "INFO:root:This is the start of my first for loop [1, 2, 3, 4, [4, 5, 6], 'sudh', 'kumar']\n",
      "INFO:root:This is the value of i am logging 1\n",
      "INFO:root:This is the start of my first for loop [1, 2, 3, 4, [4, 5, 6], 'sudh', 'kumar']\n",
      "INFO:root:This is the value of i am logging 2\n",
      "INFO:root:This is the start of my first for loop [1, 2, 3, 4, [4, 5, 6], 'sudh', 'kumar']\n",
      "INFO:root:This is the value of i am logging 3\n",
      "INFO:root:This is the start of my first for loop [1, 2, 3, 4, [4, 5, 6], 'sudh', 'kumar']\n",
      "INFO:root:This is the value of i am logging 4\n",
      "INFO:root:This is the start of my first for loop [1, 2, 3, 4, [4, 5, 6], 'sudh', 'kumar']\n",
      "INFO:root:This is the value of i am logging [4, 5, 6]\n",
      "INFO:root:logging my j 4 and i is [4, 5, 6]\n",
      "INFO:root:logging my j 5 and i is [4, 5, 6]\n",
      "INFO:root:logging my j 6 and i is [4, 5, 6]\n",
      "INFO:root:This is the start of my first for loop [1, 2, 3, 4, [4, 5, 6], 'sudh', 'kumar']\n",
      "INFO:root:This is the value of i am logging sudh\n",
      "INFO:root:This is the start of my first for loop [1, 2, 3, 4, [4, 5, 6], 'sudh', 'kumar']\n",
      "INFO:root:This is the value of i am logging kumar\n",
      "INFO:root:This is my final result with all int [1, 2, 3, 4, 4, 5, 6] and all str ['sudh', 'kumar']\n"
     ]
    }
   ],
   "source": [
    "l1_int=[]\n",
    "l2_str=[]\n",
    "for i in l:\n",
    "    logging.info(\"This is the start of my first for loop {}\".format(l))\n",
    "    logging.info(\"This is the value of i am logging {}\".format(i))\n",
    "    if type(i)==list:\n",
    "        for j in i:\n",
    "            logging.info(\"logging my j {j} and i is {i}\".format(i=i,j=j))\n",
    "            if type(j)==int:\n",
    "                l1_int.append(j)\n",
    "    elif type(i)==int:\n",
    "        l1_int.append(i)\n",
    "    else:\n",
    "        if type(i)==str:\n",
    "            l2_str.append(i)\n",
    "logging.info(\"This is my final result with all int {l1} and all str {l2}\".format(l1=l1_int, l2=l2_str))      "
   ]
  },
  {
   "cell_type": "code",
   "execution_count": 28,
   "id": "15c6be00-daef-46f7-aa5b-08cf99468a64",
   "metadata": {},
   "outputs": [
    {
     "data": {
      "text/plain": [
       "[1, 2, 3, 4, 4, 5, 6]"
      ]
     },
     "execution_count": 28,
     "metadata": {},
     "output_type": "execute_result"
    }
   ],
   "source": [
    "l1_int"
   ]
  },
  {
   "cell_type": "code",
   "execution_count": 29,
   "id": "1ca641cc-f53b-4bfe-8290-75bd73d7371e",
   "metadata": {},
   "outputs": [
    {
     "data": {
      "text/plain": [
       "['sudh', 'kumar']"
      ]
     },
     "execution_count": 29,
     "metadata": {},
     "output_type": "execute_result"
    }
   ],
   "source": [
    "l2_str"
   ]
  },
  {
   "cell_type": "code",
   "execution_count": null,
   "id": "b8d7b566-ae32-4247-95d5-09dec88527d7",
   "metadata": {},
   "outputs": [],
   "source": []
  }
 ],
 "metadata": {
  "kernelspec": {
   "display_name": "Python 3 (ipykernel)",
   "language": "python",
   "name": "python3"
  },
  "language_info": {
   "codemirror_mode": {
    "name": "ipython",
    "version": 3
   },
   "file_extension": ".py",
   "mimetype": "text/x-python",
   "name": "python",
   "nbconvert_exporter": "python",
   "pygments_lexer": "ipython3",
   "version": "3.10.6"
  }
 },
 "nbformat": 4,
 "nbformat_minor": 5
}
