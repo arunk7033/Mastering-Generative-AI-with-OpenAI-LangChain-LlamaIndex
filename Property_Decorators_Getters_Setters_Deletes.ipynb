{
 "cells": [
  {
   "cell_type": "markdown",
   "id": "359b62ef-8129-4133-92ba-24179bf0a066",
   "metadata": {},
   "source": [
    "## Property Decorators - Getters, Setters and Deletes"
   ]
  },
  {
   "cell_type": "code",
   "execution_count": 1,
   "id": "a9e08d7a-96db-4096-8c41-eb64a1e822d9",
   "metadata": {},
   "outputs": [],
   "source": [
    "class pwskills:\n",
    "    def __init__(self, course_price, course_name):\n",
    "        self.__course_price=course_price\n",
    "        self.course_name=course_name"
   ]
  },
  {
   "cell_type": "code",
   "execution_count": 2,
   "id": "3f2df905-94e9-44a5-8eca-f59b3525b60b",
   "metadata": {},
   "outputs": [],
   "source": [
    "pw=pwskills(3500, \"Data Science Masters\")"
   ]
  },
  {
   "cell_type": "code",
   "execution_count": 3,
   "id": "48dc1649-dbd9-48de-ad08-cc61408802ea",
   "metadata": {},
   "outputs": [
    {
     "data": {
      "text/plain": [
       "'Data Science Masters'"
      ]
     },
     "execution_count": 3,
     "metadata": {},
     "output_type": "execute_result"
    }
   ],
   "source": [
    "pw.course_name"
   ]
  },
  {
   "cell_type": "code",
   "execution_count": 4,
   "id": "da959539-8101-48d5-b0b0-52692027b99d",
   "metadata": {},
   "outputs": [
    {
     "ename": "AttributeError",
     "evalue": "'pwskills' object has no attribute '__course_price'",
     "output_type": "error",
     "traceback": [
      "\u001b[0;31m---------------------------------------------------------------------------\u001b[0m",
      "\u001b[0;31mAttributeError\u001b[0m                            Traceback (most recent call last)",
      "Cell \u001b[0;32mIn [4], line 1\u001b[0m\n\u001b[0;32m----> 1\u001b[0m \u001b[43mpw\u001b[49m\u001b[38;5;241;43m.\u001b[39;49m\u001b[43m__course_price\u001b[49m\n",
      "\u001b[0;31mAttributeError\u001b[0m: 'pwskills' object has no attribute '__course_price'"
     ]
    }
   ],
   "source": [
    "pw.__course_price"
   ]
  },
  {
   "cell_type": "code",
   "execution_count": 5,
   "id": "0e90b278-f20f-4927-90e3-0af5fb87a704",
   "metadata": {},
   "outputs": [
    {
     "data": {
      "text/plain": [
       "3500"
      ]
     },
     "execution_count": 5,
     "metadata": {},
     "output_type": "execute_result"
    }
   ],
   "source": [
    "pw._pwskills__course_price"
   ]
  },
  {
   "cell_type": "code",
   "execution_count": 16,
   "id": "722c641c-a98b-4ea0-bd4c-479050a00316",
   "metadata": {},
   "outputs": [],
   "source": [
    "class pwskills1:\n",
    "    def __init__(self, course_price, course_name):\n",
    "        self.__course_price=course_price\n",
    "        self.course_name=course_name\n",
    "    @property\n",
    "    def course_price_access(self):\n",
    "        return self.__course_price\n",
    "    @course_price_access.setter\n",
    "    def course_price_set(self,price):\n",
    "        if price<=3500:\n",
    "            pass\n",
    "        else:\n",
    "            self.__course_price=price\n",
    "    @course_price_access.deleter\n",
    "    def course_price_del(self):\n",
    "        del self.__course_price"
   ]
  },
  {
   "cell_type": "code",
   "execution_count": 17,
   "id": "157ecbe0-dd57-4b96-8486-fa493adf5a4a",
   "metadata": {},
   "outputs": [],
   "source": [
    "pw1=pwskills1(3500, \"Data Science Masters\")"
   ]
  },
  {
   "cell_type": "code",
   "execution_count": 18,
   "id": "f36329eb-2ca6-485d-a870-93c6582da956",
   "metadata": {},
   "outputs": [
    {
     "data": {
      "text/plain": [
       "3500"
      ]
     },
     "execution_count": 18,
     "metadata": {},
     "output_type": "execute_result"
    }
   ],
   "source": [
    "pw1.course_price_access"
   ]
  },
  {
   "cell_type": "code",
   "execution_count": 19,
   "id": "414962e5-0222-44dd-8e87-952d4ee1ee05",
   "metadata": {},
   "outputs": [],
   "source": [
    "pw1.course_price_set=2300"
   ]
  },
  {
   "cell_type": "code",
   "execution_count": 20,
   "id": "0570e787-c46a-4f20-aa54-d8c2d30d56f1",
   "metadata": {},
   "outputs": [
    {
     "data": {
      "text/plain": [
       "3500"
      ]
     },
     "execution_count": 20,
     "metadata": {},
     "output_type": "execute_result"
    }
   ],
   "source": [
    "pw1.course_price_access"
   ]
  },
  {
   "cell_type": "code",
   "execution_count": 21,
   "id": "403ee593-8bfc-4d02-a70b-688fc62342ef",
   "metadata": {},
   "outputs": [],
   "source": [
    "pw1.course_price_set=4500"
   ]
  },
  {
   "cell_type": "code",
   "execution_count": 22,
   "id": "eddb9547-2eae-41d1-af19-2287666236b1",
   "metadata": {},
   "outputs": [
    {
     "data": {
      "text/plain": [
       "4500"
      ]
     },
     "execution_count": 22,
     "metadata": {},
     "output_type": "execute_result"
    }
   ],
   "source": [
    "pw1.course_price_access"
   ]
  },
  {
   "cell_type": "code",
   "execution_count": 23,
   "id": "1a31f692-804d-4ab9-b117-3dee65b5e696",
   "metadata": {},
   "outputs": [],
   "source": [
    "del pw1.course_price_del"
   ]
  },
  {
   "cell_type": "code",
   "execution_count": 24,
   "id": "bd239b18-46c7-4aa5-979a-66aa42060b54",
   "metadata": {},
   "outputs": [
    {
     "ename": "AttributeError",
     "evalue": "'pwskills1' object has no attribute '_pwskills1__course_price'",
     "output_type": "error",
     "traceback": [
      "\u001b[0;31m---------------------------------------------------------------------------\u001b[0m",
      "\u001b[0;31mAttributeError\u001b[0m                            Traceback (most recent call last)",
      "Cell \u001b[0;32mIn [24], line 1\u001b[0m\n\u001b[0;32m----> 1\u001b[0m \u001b[43mpw1\u001b[49m\u001b[38;5;241;43m.\u001b[39;49m\u001b[43mcourse_price_access\u001b[49m\n",
      "Cell \u001b[0;32mIn [16], line 7\u001b[0m, in \u001b[0;36mpwskills1.course_price_access\u001b[0;34m(self)\u001b[0m\n\u001b[1;32m      5\u001b[0m \u001b[38;5;129m@property\u001b[39m\n\u001b[1;32m      6\u001b[0m \u001b[38;5;28;01mdef\u001b[39;00m \u001b[38;5;21mcourse_price_access\u001b[39m(\u001b[38;5;28mself\u001b[39m):\n\u001b[0;32m----> 7\u001b[0m     \u001b[38;5;28;01mreturn\u001b[39;00m \u001b[38;5;28;43mself\u001b[39;49m\u001b[38;5;241;43m.\u001b[39;49m\u001b[43m__course_price\u001b[49m\n",
      "\u001b[0;31mAttributeError\u001b[0m: 'pwskills1' object has no attribute '_pwskills1__course_price'"
     ]
    }
   ],
   "source": [
    "pw1.course_price_access"
   ]
  },
  {
   "cell_type": "code",
   "execution_count": null,
   "id": "a64c2363-c353-4ebd-bbdb-d0ee20964487",
   "metadata": {},
   "outputs": [],
   "source": []
  }
 ],
 "metadata": {
  "kernelspec": {
   "display_name": "Python 3 (ipykernel)",
   "language": "python",
   "name": "python3"
  },
  "language_info": {
   "codemirror_mode": {
    "name": "ipython",
    "version": 3
   },
   "file_extension": ".py",
   "mimetype": "text/x-python",
   "name": "python",
   "nbconvert_exporter": "python",
   "pygments_lexer": "ipython3",
   "version": "3.10.6"
  }
 },
 "nbformat": 4,
 "nbformat_minor": 5
}
