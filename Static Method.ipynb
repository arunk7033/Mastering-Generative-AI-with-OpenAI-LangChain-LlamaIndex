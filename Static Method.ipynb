{
 "cells": [
  {
   "cell_type": "markdown",
   "id": "359b62ef-8129-4133-92ba-24179bf0a066",
   "metadata": {},
   "source": [
    "## Static Method"
   ]
  },
  {
   "cell_type": "code",
   "execution_count": 1,
   "id": "9fce19a4-ad13-4ac4-a7e6-eda016f93c74",
   "metadata": {},
   "outputs": [],
   "source": [
    "class pwskills:\n",
    "    def student_details(self, name, mail_id, number):\n",
    "        print(name,mail_id,number)"
   ]
  },
  {
   "cell_type": "code",
   "execution_count": 15,
   "id": "27b17650-c750-4da4-a5f0-9cc578697bcb",
   "metadata": {},
   "outputs": [
    {
     "name": "stdout",
     "output_type": "stream",
     "text": [
      "sudh sudh@gmail.com 912345634\n"
     ]
    }
   ],
   "source": [
    "pw.student_details(\"sudh\",\"sudh@gmail.com\",912345634)"
   ]
  },
  {
   "cell_type": "code",
   "execution_count": null,
   "id": "f36fb8da-0e4c-4648-af4f-ee48b0f3d896",
   "metadata": {},
   "outputs": [],
   "source": [
    "pw.student_details("
   ]
  },
  {
   "cell_type": "code",
   "execution_count": 3,
   "id": "add016e8-4731-447b-8159-1692186b6ce4",
   "metadata": {},
   "outputs": [],
   "source": [
    "class pwskills1:\n",
    "    def student_details(self, name, mail_id, number):\n",
    "        print(name,mail_id,number)\n",
    "    \n",
    "    @staticmethod\n",
    "    def mentor_class(list_mentor):\n",
    "        print(list_mentor)\n",
    "    \n",
    "    def mentor(self, mentor_list ):\n",
    "        print(mentor_list)"
   ]
  },
  {
   "cell_type": "code",
   "execution_count": 4,
   "id": "9c4af685-a3ea-4dd3-978b-2f6192e4845b",
   "metadata": {},
   "outputs": [],
   "source": [
    "pw1=pwskills1()"
   ]
  },
  {
   "cell_type": "code",
   "execution_count": 5,
   "id": "21dae299-d78e-4f41-b89d-4738b95f0c84",
   "metadata": {},
   "outputs": [
    {
     "name": "stdout",
     "output_type": "stream",
     "text": [
      "['Krish', 'Sudh']\n"
     ]
    }
   ],
   "source": [
    "pw1.mentor([\"Krish\",\"Sudh\"])"
   ]
  },
  {
   "cell_type": "code",
   "execution_count": 6,
   "id": "bcee85d1-be71-4604-9fb7-23e88e9e9def",
   "metadata": {},
   "outputs": [
    {
     "name": "stdout",
     "output_type": "stream",
     "text": [
      "['Sunny', 'Krish']\n"
     ]
    }
   ],
   "source": [
    "pw1.mentor_class([\"Sunny\",\"Krish\"])"
   ]
  },
  {
   "cell_type": "code",
   "execution_count": 7,
   "id": "b41404a8-0669-473d-af9a-71cb36f67ace",
   "metadata": {},
   "outputs": [
    {
     "name": "stdout",
     "output_type": "stream",
     "text": [
      "['Sudh', 'Sunny']\n"
     ]
    }
   ],
   "source": [
    "pwskills1.mentor_class([\"Sudh\",\"Sunny\"])"
   ]
  },
  {
   "cell_type": "code",
   "execution_count": 8,
   "id": "648d6ffb-5b95-4d7b-8599-b786abbbeaf4",
   "metadata": {},
   "outputs": [],
   "source": [
    "class pwskills1:\n",
    "    def student_details(self, name, mail_id, number):\n",
    "        print(name,mail_id,number)\n",
    "    \n",
    "    @staticmethod\n",
    "    def mentor_mail_id(mail_id):\n",
    "        print(mail_id)\n",
    "    \n",
    "    @staticmethod\n",
    "    def mentor_class(list_mentor):\n",
    "        print(list_mentor)\n",
    "        pw1.mentor_mail_id([\"krish@gmail.com\",\"sudh@gmail.com\"])\n",
    "    \n",
    "    @classmethod\n",
    "    def class_name(cls, class_name):\n",
    "        cls.mentor_class([\"sudh\",\"krish\"])\n",
    "    \n",
    "    def mentor(self, mentor_list ):\n",
    "        print(mentor_list)\n",
    "        self.mentor_class([\"krish\",\"sudh\"])"
   ]
  },
  {
   "cell_type": "code",
   "execution_count": 9,
   "id": "25910615-a02d-427e-adf8-349f960dd20d",
   "metadata": {},
   "outputs": [],
   "source": [
    "pw1=pwskills1()"
   ]
  },
  {
   "cell_type": "code",
   "execution_count": 10,
   "id": "20d820ce-5cbe-466f-b05b-555764f839f9",
   "metadata": {},
   "outputs": [
    {
     "name": "stdout",
     "output_type": "stream",
     "text": [
      "mohan mohan@gmail.com 97839939\n"
     ]
    }
   ],
   "source": [
    "pw1.student_details(\"mohan\",\"mohan@gmail.com\",97839939)"
   ]
  },
  {
   "cell_type": "code",
   "execution_count": 11,
   "id": "d9a261c9-e5e1-4f2f-89e8-fd3e82a64534",
   "metadata": {},
   "outputs": [
    {
     "name": "stdout",
     "output_type": "stream",
     "text": [
      "['krish@gmail.com', 'sudh@gmail.com']\n"
     ]
    }
   ],
   "source": [
    "pw1.mentor_mail_id([\"krish@gmail.com\",\"sudh@gmail.com\"])"
   ]
  },
  {
   "cell_type": "code",
   "execution_count": 12,
   "id": "961af17f-6642-474c-a797-6f1055888bcc",
   "metadata": {},
   "outputs": [
    {
     "name": "stdout",
     "output_type": "stream",
     "text": [
      "['sudh', 'krish']\n",
      "['krish@gmail.com', 'sudh@gmail.com']\n"
     ]
    }
   ],
   "source": [
    "pw1.class_name(\"Data Science Masters\")"
   ]
  },
  {
   "cell_type": "code",
   "execution_count": 14,
   "id": "8ac03e65-f51b-474f-9776-6c5ba28c991d",
   "metadata": {},
   "outputs": [
    {
     "name": "stdout",
     "output_type": "stream",
     "text": [
      "['krish@gmail.com', 'sudh@gmail.com']\n"
     ]
    }
   ],
   "source": [
    "pwskills1.mentor_mail_id([\"krish@gmail.com\",\"sudh@gmail.com\"])"
   ]
  }
 ],
 "metadata": {
  "kernelspec": {
   "display_name": "Python 3 (ipykernel)",
   "language": "python",
   "name": "python3"
  },
  "language_info": {
   "codemirror_mode": {
    "name": "ipython",
    "version": 3
   },
   "file_extension": ".py",
   "mimetype": "text/x-python",
   "name": "python",
   "nbconvert_exporter": "python",
   "pygments_lexer": "ipython3",
   "version": "3.10.6"
  }
 },
 "nbformat": 4,
 "nbformat_minor": 5
}
