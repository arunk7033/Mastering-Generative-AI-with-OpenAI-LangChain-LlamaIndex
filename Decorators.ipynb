{
 "cells": [
  {
   "cell_type": "markdown",
   "id": "359b62ef-8129-4133-92ba-24179bf0a066",
   "metadata": {},
   "source": [
    "## Decorators"
   ]
  },
  {
   "cell_type": "code",
   "execution_count": 2,
   "id": "77df2942-8620-485f-bb51-5ecbcc58c73e",
   "metadata": {},
   "outputs": [],
   "source": [
    "def test():\n",
    "    print(\"This is the start of the function\")\n",
    "    print(4+5)\n",
    "    print(\"This is the end of the function\")"
   ]
  },
  {
   "cell_type": "code",
   "execution_count": 3,
   "id": "b0327fb0-0717-4730-ac7e-24c796f7b3af",
   "metadata": {},
   "outputs": [
    {
     "name": "stdout",
     "output_type": "stream",
     "text": [
      "This is the start of the function\n",
      "9\n",
      "This is the end of the function\n"
     ]
    }
   ],
   "source": [
    "test()"
   ]
  },
  {
   "cell_type": "code",
   "execution_count": 4,
   "id": "302a1b48-ee69-42ac-a6d9-632f2375d3ec",
   "metadata": {},
   "outputs": [],
   "source": [
    "def deco(func):\n",
    "    def inner_deco():\n",
    "        print(\"This is the start of the function\")\n",
    "        func()\n",
    "        print(\"This is the end of the function\")\n",
    "    return inner_deco"
   ]
  },
  {
   "cell_type": "code",
   "execution_count": 5,
   "id": "f01e5bb8-db9e-4df9-b718-c0b7d68c0d6d",
   "metadata": {},
   "outputs": [],
   "source": [
    "@deco\n",
    "def test1():\n",
    "    print(4+5) "
   ]
  },
  {
   "cell_type": "code",
   "execution_count": 6,
   "id": "cbad49b7-4231-4305-bfe0-abcfc5edcfc0",
   "metadata": {},
   "outputs": [
    {
     "name": "stdout",
     "output_type": "stream",
     "text": [
      "This is the start of the function\n",
      "9\n",
      "This is the end of the function\n"
     ]
    }
   ],
   "source": [
    "test1()"
   ]
  },
  {
   "cell_type": "markdown",
   "id": "9fdc9d50-b0d8-49d8-a694-c675c6ab9371",
   "metadata": {},
   "source": [
    "# Example illustrating decorators"
   ]
  },
  {
   "cell_type": "markdown",
   "id": "9fbe0817-2781-40db-9b48-43f8e2579e2d",
   "metadata": {},
   "source": [
    "# Example 1: finding time taken by function to be executed using decorator"
   ]
  },
  {
   "cell_type": "code",
   "execution_count": 7,
   "id": "f237b76f-2455-4f85-a5a2-6d74574f10b5",
   "metadata": {},
   "outputs": [],
   "source": [
    "import time\n",
    "def timer_test(func):\n",
    "    def timer_test_inner():\n",
    "        start=time.time()\n",
    "        func()\n",
    "        end =time.time()\n",
    "        print(end-start)\n",
    "    return timer_test_inner"
   ]
  },
  {
   "cell_type": "code",
   "execution_count": 8,
   "id": "6e64e68d-293c-4f04-baf2-d53ae1c2c815",
   "metadata": {},
   "outputs": [],
   "source": [
    "@timer_test\n",
    "def test2():\n",
    "    print(45+37) "
   ]
  },
  {
   "cell_type": "code",
   "execution_count": 9,
   "id": "1fd54adc-eb39-4348-9d5f-a83e05060d9c",
   "metadata": {},
   "outputs": [
    {
     "name": "stdout",
     "output_type": "stream",
     "text": [
      "82\n",
      "4.649162292480469e-05\n"
     ]
    }
   ],
   "source": [
    "test2()"
   ]
  },
  {
   "cell_type": "markdown",
   "id": "a8152093-69dd-466a-947e-f646cb7c776c",
   "metadata": {},
   "source": [
    "# Example 2: finding time taken by for loop to be executed using decorator"
   ]
  },
  {
   "cell_type": "code",
   "execution_count": 18,
   "id": "dc05221c-6dad-4c28-b7b1-fe15219fe832",
   "metadata": {},
   "outputs": [],
   "source": [
    "@timer_test\n",
    "def test3():\n",
    "    for i in range(100000000):\n",
    "        pass"
   ]
  },
  {
   "cell_type": "code",
   "execution_count": 19,
   "id": "5d39519a-3bd8-4ab2-8355-65bf2cfd27fd",
   "metadata": {},
   "outputs": [
    {
     "name": "stdout",
     "output_type": "stream",
     "text": [
      "2.7393574714660645\n"
     ]
    }
   ],
   "source": [
    "test3()"
   ]
  },
  {
   "cell_type": "code",
   "execution_count": null,
   "id": "034eb497-85eb-40e2-b4f2-d5b80c8a3a89",
   "metadata": {},
   "outputs": [],
   "source": []
  }
 ],
 "metadata": {
  "kernelspec": {
   "display_name": "Python 3 (ipykernel)",
   "language": "python",
   "name": "python3"
  },
  "language_info": {
   "codemirror_mode": {
    "name": "ipython",
    "version": 3
   },
   "file_extension": ".py",
   "mimetype": "text/x-python",
   "name": "python",
   "nbconvert_exporter": "python",
   "pygments_lexer": "ipython3",
   "version": "3.10.6"
  }
 },
 "nbformat": 4,
 "nbformat_minor": 5
}
